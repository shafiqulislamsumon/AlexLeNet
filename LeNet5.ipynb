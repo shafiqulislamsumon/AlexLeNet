{
 "cells": [
  {
   "cell_type": "code",
   "execution_count": 1,
   "metadata": {},
   "outputs": [
    {
     "name": "stderr",
     "output_type": "stream",
     "text": [
      "Using TensorFlow backend.\n"
     ]
    }
   ],
   "source": [
    "import numpy as np\n",
    "import pandas as pd\n",
    "import matplotlib.pyplot as plt\n",
    "import keras\n",
    "from keras.utils import to_categorical\n",
    "from sklearn.model_selection import train_test_split\n",
    "from keras.models import Sequential\n",
    "from keras.layers import Dense, Dropout, Flatten, Input\n",
    "from keras.layers import Conv2D, MaxPooling2D, AveragePooling2D\n",
    "from keras.layers.normalization import BatchNormalization\n",
    "from sklearn.metrics import classification_report\n",
    "from keras import datasets\n",
    "from keras.models import Model"
   ]
  },
  {
   "cell_type": "code",
   "execution_count": 2,
   "metadata": {},
   "outputs": [],
   "source": [
    "(x_train, y_train), (x_test, y_test) = datasets.mnist.load_data()\n",
    "y_true = y_test"
   ]
  },
  {
   "cell_type": "code",
   "execution_count": 3,
   "metadata": {},
   "outputs": [
    {
     "name": "stdout",
     "output_type": "stream",
     "text": [
      "Train set shape (60000, 28, 28, 1) trainlabel shape (60000,)\n",
      "test set shape (10000, 28, 28, 1) test labels: (10000,)\n"
     ]
    }
   ],
   "source": [
    "# parsing through the dataset\n",
    "\n",
    "img_row, img_cols = 28, 28\n",
    "input_shape = (img_row, img_cols, 1)\n",
    "\n",
    "x_train = x_train.reshape(x_train.shape[0], img_cols, img_row, 1)\n",
    "x_test = x_test.reshape(x_test.shape[0], img_cols, img_row, 1)\n",
    "\n",
    "print(\"Train set shape\", x_train.shape, 'trainlabel shape', y_train.shape)\n",
    "print('test set shape', x_test.shape, 'test labels:', y_test.shape)"
   ]
  },
  {
   "cell_type": "code",
   "execution_count": 4,
   "metadata": {},
   "outputs": [
    {
     "name": "stdout",
     "output_type": "stream",
     "text": [
      "X_train shape: (48000, 28, 28, 1) X_label shape: (48000,)\n",
      "Val_set shape: (12000, 28, 28, 1) val_label shape: (12000,)\n",
      "Test_set shape: (10000, 28, 28, 1) y_test shape: (10000,)\n"
     ]
    }
   ],
   "source": [
    "# split the train set to validatation set\n",
    "x_train, x_val, y_train, y_val = train_test_split(x_train, y_train, test_size=0.2)\n",
    "\n",
    "print('X_train shape:', x_train.shape, 'X_label shape:', y_train.shape)\n",
    "print('Val_set shape:', x_val.shape, 'val_label shape:', y_val.shape)\n",
    "print('Test_set shape:', x_test.shape, 'y_test shape:', y_test.shape)"
   ]
  },
  {
   "cell_type": "code",
   "execution_count": 5,
   "metadata": {},
   "outputs": [],
   "source": [
    "# normalization of data\n",
    "x_train = (x_train - x_train.mean()) / x_train.std()\n",
    "x_val = (x_val - x_val.mean()) / x_val.std()\n",
    "x_test = (x_test - x_test.mean()) / x_test.std()"
   ]
  },
  {
   "cell_type": "code",
   "execution_count": 6,
   "metadata": {},
   "outputs": [
    {
     "name": "stdout",
     "output_type": "stream",
     "text": [
      "X_train shape: (48000, 28, 28, 1) X_label shape: (48000, 10)\n",
      "test set shape: (10000, 28, 28, 1) test label shape (10000, 10)\n",
      "val set shape: (12000, 28, 28, 1) val_lavels shape: (12000, 10)\n"
     ]
    }
   ],
   "source": [
    "# formatting the data for model\n",
    "num_labels = 10\n",
    "\n",
    "y_train = keras.utils.to_categorical(y_train)\n",
    "print('X_train shape:', x_train.shape, 'X_label shape:', y_train.shape)\n",
    "\n",
    "y_test = keras.utils.to_categorical(y_test)\n",
    "print('test set shape:', x_test.shape, 'test label shape', y_test.shape)\n",
    "\n",
    "y_val = keras.utils.to_categorical(y_val)\n",
    "print('val set shape:', x_val.shape, 'val_lavels shape:', y_val.shape)"
   ]
  },
  {
   "cell_type": "markdown",
   "metadata": {},
   "source": [
    "# LeNet5 Architecture"
   ]
  },
  {
   "cell_type": "code",
   "execution_count": 7,
   "metadata": {},
   "outputs": [],
   "source": [
    "# Defining LeNet5 architecture\n",
    "\n",
    "batch_size = 32\n",
    "num_classes = 10\n",
    "epochs = 50\n",
    "input_img = Input(shape=(28,28,1))\n",
    "\n",
    "model = Sequential()\n",
    "\n",
    "# C1 Convolutional Layer\n",
    "model.add(Conv2D(6, kernel_size=(5, 5), strides=(1, 1), activation='tanh', input_shape=(28,28,1)))\n",
    "\n",
    "# S2 Pooling Layer\n",
    "model.add(AveragePooling2D(pool_size=(2, 2), strides=(1, 1)))\n",
    "\n",
    "# C3 Convolutional Layer\n",
    "model.add(Conv2D(16, kernel_size=(5, 5), strides=(1, 1), activation='tanh'))\n",
    "\n",
    "# S4 Pooling Layer\n",
    "model.add(AveragePooling2D(pool_size=(2, 2), strides=(2, 2)))\n",
    "\n",
    "# C5 Fully Connected Convolutional Layer\n",
    "model.add(Conv2D(120, kernel_size=(5, 5), strides=(1, 1), activation='tanh'))\n",
    "\n",
    "#Flatten the CNN output\n",
    "model.add(Flatten())\n",
    "\n",
    "# FC6 Fully Connected Layer\n",
    "model.add(Dense(84, activation='tanh'))\n",
    "\n",
    "#Output Layer with softmax activation\n",
    "model.add(Dense(num_classes, activation='softmax'))\n",
    "\n",
    "# Compile the model\n",
    "model.compile(loss=keras.losses.categorical_crossentropy, optimizer='SGD', metrics=['accuracy'])"
   ]
  },
  {
   "cell_type": "code",
   "execution_count": 8,
   "metadata": {},
   "outputs": [
    {
     "name": "stdout",
     "output_type": "stream",
     "text": [
      "_________________________________________________________________\n",
      "Layer (type)                 Output Shape              Param #   \n",
      "=================================================================\n",
      "conv2d_1 (Conv2D)            (None, 24, 24, 6)         156       \n",
      "_________________________________________________________________\n",
      "average_pooling2d_1 (Average (None, 23, 23, 6)         0         \n",
      "_________________________________________________________________\n",
      "conv2d_2 (Conv2D)            (None, 19, 19, 16)        2416      \n",
      "_________________________________________________________________\n",
      "average_pooling2d_2 (Average (None, 9, 9, 16)          0         \n",
      "_________________________________________________________________\n",
      "conv2d_3 (Conv2D)            (None, 5, 5, 120)         48120     \n",
      "_________________________________________________________________\n",
      "flatten_1 (Flatten)          (None, 3000)              0         \n",
      "_________________________________________________________________\n",
      "dense_1 (Dense)              (None, 84)                252084    \n",
      "_________________________________________________________________\n",
      "dense_2 (Dense)              (None, 10)                850       \n",
      "=================================================================\n",
      "Total params: 303,626\n",
      "Trainable params: 303,626\n",
      "Non-trainable params: 0\n",
      "_________________________________________________________________\n"
     ]
    }
   ],
   "source": [
    "model.summary()"
   ]
  },
  {
   "cell_type": "code",
   "execution_count": 9,
   "metadata": {},
   "outputs": [
    {
     "name": "stdout",
     "output_type": "stream",
     "text": [
      "Train on 48000 samples, validate on 12000 samples\n",
      "Epoch 1/50\n",
      "48000/48000 [==============================] - 59s 1ms/step - loss: 0.3731 - acc: 0.8975 - val_loss: 0.2167 - val_acc: 0.9401\n",
      "Epoch 2/50\n",
      "48000/48000 [==============================] - 59s 1ms/step - loss: 0.1741 - acc: 0.9498 - val_loss: 0.1383 - val_acc: 0.9611\n",
      "Epoch 3/50\n",
      "48000/48000 [==============================] - 59s 1ms/step - loss: 0.1146 - acc: 0.9676 - val_loss: 0.1035 - val_acc: 0.9718\n",
      "Epoch 4/50\n",
      "48000/48000 [==============================] - 59s 1ms/step - loss: 0.0866 - acc: 0.9756 - val_loss: 0.0870 - val_acc: 0.9759\n",
      "Epoch 5/50\n",
      "48000/48000 [==============================] - 58s 1ms/step - loss: 0.0718 - acc: 0.9801 - val_loss: 0.0761 - val_acc: 0.9790\n",
      "Epoch 6/50\n",
      "48000/48000 [==============================] - 59s 1ms/step - loss: 0.0626 - acc: 0.9821 - val_loss: 0.0671 - val_acc: 0.9822\n",
      "Epoch 7/50\n",
      "48000/48000 [==============================] - 59s 1ms/step - loss: 0.0552 - acc: 0.9842 - val_loss: 0.0620 - val_acc: 0.9824\n",
      "Epoch 8/50\n",
      "48000/48000 [==============================] - 59s 1ms/step - loss: 0.0495 - acc: 0.9861 - val_loss: 0.0604 - val_acc: 0.9826\n",
      "Epoch 9/50\n",
      "48000/48000 [==============================] - 59s 1ms/step - loss: 0.0452 - acc: 0.9872 - val_loss: 0.0575 - val_acc: 0.9838\n",
      "Epoch 10/50\n",
      "48000/48000 [==============================] - 58s 1ms/step - loss: 0.0413 - acc: 0.9881 - val_loss: 0.0526 - val_acc: 0.9852\n",
      "Epoch 11/50\n",
      "48000/48000 [==============================] - 59s 1ms/step - loss: 0.0384 - acc: 0.9894 - val_loss: 0.0525 - val_acc: 0.9850\n",
      "Epoch 12/50\n",
      "48000/48000 [==============================] - 62s 1ms/step - loss: 0.0354 - acc: 0.9903 - val_loss: 0.0486 - val_acc: 0.9865\n",
      "Epoch 13/50\n",
      "48000/48000 [==============================] - 60s 1ms/step - loss: 0.0333 - acc: 0.9909 - val_loss: 0.0458 - val_acc: 0.9875\n",
      "Epoch 14/50\n",
      "48000/48000 [==============================] - 58s 1ms/step - loss: 0.0308 - acc: 0.9917 - val_loss: 0.0459 - val_acc: 0.9872\n",
      "Epoch 15/50\n",
      "48000/48000 [==============================] - 59s 1ms/step - loss: 0.0291 - acc: 0.9919 - val_loss: 0.0434 - val_acc: 0.9880\n",
      "Epoch 16/50\n",
      "48000/48000 [==============================] - 59s 1ms/step - loss: 0.0275 - acc: 0.9927 - val_loss: 0.0421 - val_acc: 0.9885\n",
      "Epoch 17/50\n",
      "48000/48000 [==============================] - 59s 1ms/step - loss: 0.0259 - acc: 0.9929 - val_loss: 0.0427 - val_acc: 0.9875\n",
      "Epoch 18/50\n",
      "48000/48000 [==============================] - 59s 1ms/step - loss: 0.0242 - acc: 0.9934 - val_loss: 0.0422 - val_acc: 0.9883\n",
      "Epoch 19/50\n",
      "48000/48000 [==============================] - 59s 1ms/step - loss: 0.0228 - acc: 0.9939 - val_loss: 0.0403 - val_acc: 0.9888\n",
      "Epoch 20/50\n",
      "48000/48000 [==============================] - 59s 1ms/step - loss: 0.0216 - acc: 0.9945 - val_loss: 0.0403 - val_acc: 0.9887\n",
      "Epoch 21/50\n",
      "48000/48000 [==============================] - 59s 1ms/step - loss: 0.0206 - acc: 0.9944 - val_loss: 0.0389 - val_acc: 0.9892\n",
      "Epoch 22/50\n",
      "48000/48000 [==============================] - 59s 1ms/step - loss: 0.0194 - acc: 0.9951 - val_loss: 0.0380 - val_acc: 0.9895\n",
      "Epoch 23/50\n",
      "48000/48000 [==============================] - 59s 1ms/step - loss: 0.0183 - acc: 0.9955 - val_loss: 0.0381 - val_acc: 0.9892\n",
      "Epoch 24/50\n",
      "48000/48000 [==============================] - 60s 1ms/step - loss: 0.0175 - acc: 0.9955 - val_loss: 0.0387 - val_acc: 0.9894\n",
      "Epoch 25/50\n",
      "48000/48000 [==============================] - 60s 1ms/step - loss: 0.0164 - acc: 0.9962 - val_loss: 0.0367 - val_acc: 0.9899\n",
      "Epoch 26/50\n",
      "48000/48000 [==============================] - 59s 1ms/step - loss: 0.0157 - acc: 0.9962 - val_loss: 0.0367 - val_acc: 0.9900\n",
      "Epoch 27/50\n",
      "48000/48000 [==============================] - 60s 1ms/step - loss: 0.0148 - acc: 0.9967 - val_loss: 0.0369 - val_acc: 0.9892\n",
      "Epoch 28/50\n",
      "48000/48000 [==============================] - 60s 1ms/step - loss: 0.0143 - acc: 0.9968 - val_loss: 0.0369 - val_acc: 0.9895\n",
      "Epoch 29/50\n",
      "48000/48000 [==============================] - 60s 1ms/step - loss: 0.0136 - acc: 0.9971 - val_loss: 0.0353 - val_acc: 0.9902\n",
      "Epoch 30/50\n",
      "48000/48000 [==============================] - 60s 1ms/step - loss: 0.0128 - acc: 0.9971 - val_loss: 0.0356 - val_acc: 0.9898\n",
      "Epoch 31/50\n",
      "48000/48000 [==============================] - 59s 1ms/step - loss: 0.0123 - acc: 0.9973 - val_loss: 0.0357 - val_acc: 0.9906\n",
      "Epoch 32/50\n",
      "48000/48000 [==============================] - 59s 1ms/step - loss: 0.0119 - acc: 0.9975 - val_loss: 0.0350 - val_acc: 0.9902\n",
      "Epoch 33/50\n",
      "48000/48000 [==============================] - 59s 1ms/step - loss: 0.0112 - acc: 0.9976 - val_loss: 0.0349 - val_acc: 0.9905\n",
      "Epoch 34/50\n",
      "48000/48000 [==============================] - 59s 1ms/step - loss: 0.0108 - acc: 0.9979 - val_loss: 0.0345 - val_acc: 0.9904\n",
      "Epoch 35/50\n",
      "48000/48000 [==============================] - 62s 1ms/step - loss: 0.0101 - acc: 0.9982 - val_loss: 0.0340 - val_acc: 0.9907\n",
      "Epoch 36/50\n",
      "48000/48000 [==============================] - 61s 1ms/step - loss: 0.0098 - acc: 0.9984 - val_loss: 0.0342 - val_acc: 0.9906\n",
      "Epoch 37/50\n",
      "48000/48000 [==============================] - 59s 1ms/step - loss: 0.0093 - acc: 0.9983 - val_loss: 0.0338 - val_acc: 0.9910\n",
      "Epoch 38/50\n",
      "48000/48000 [==============================] - 59s 1ms/step - loss: 0.0089 - acc: 0.9985 - val_loss: 0.0339 - val_acc: 0.9903\n",
      "Epoch 39/50\n",
      "48000/48000 [==============================] - 60s 1ms/step - loss: 0.0086 - acc: 0.9985 - val_loss: 0.0338 - val_acc: 0.9907\n",
      "Epoch 40/50\n",
      "48000/48000 [==============================] - 60s 1ms/step - loss: 0.0083 - acc: 0.9987 - val_loss: 0.0339 - val_acc: 0.9907\n",
      "Epoch 41/50\n",
      "48000/48000 [==============================] - 59s 1ms/step - loss: 0.0080 - acc: 0.9988 - val_loss: 0.0340 - val_acc: 0.9907\n",
      "Epoch 42/50\n",
      "48000/48000 [==============================] - 59s 1ms/step - loss: 0.0077 - acc: 0.9988 - val_loss: 0.0339 - val_acc: 0.9907\n",
      "Epoch 43/50\n",
      "48000/48000 [==============================] - 59s 1ms/step - loss: 0.0074 - acc: 0.9991 - val_loss: 0.0336 - val_acc: 0.9907\n",
      "Epoch 44/50\n",
      "48000/48000 [==============================] - 59s 1ms/step - loss: 0.0071 - acc: 0.9992 - val_loss: 0.0337 - val_acc: 0.9900\n",
      "Epoch 45/50\n",
      "48000/48000 [==============================] - 61s 1ms/step - loss: 0.0069 - acc: 0.9992 - val_loss: 0.0332 - val_acc: 0.9905\n",
      "Epoch 46/50\n",
      "48000/48000 [==============================] - 60s 1ms/step - loss: 0.0065 - acc: 0.9992 - val_loss: 0.0333 - val_acc: 0.9906\n",
      "Epoch 47/50\n",
      "48000/48000 [==============================] - 59s 1ms/step - loss: 0.0063 - acc: 0.9994 - val_loss: 0.0337 - val_acc: 0.9904\n",
      "Epoch 48/50\n",
      "48000/48000 [==============================] - 59s 1ms/step - loss: 0.0061 - acc: 0.9994 - val_loss: 0.0332 - val_acc: 0.9904\n",
      "Epoch 49/50\n",
      "48000/48000 [==============================] - 59s 1ms/step - loss: 0.0059 - acc: 0.9995 - val_loss: 0.0330 - val_acc: 0.9909\n",
      "Epoch 50/50\n",
      "48000/48000 [==============================] - 59s 1ms/step - loss: 0.0057 - acc: 0.9994 - val_loss: 0.0329 - val_acc: 0.9911\n"
     ]
    }
   ],
   "source": [
    "hist = model.fit(x_train, y_train, batch_size= batch_size, epochs= epochs, verbose=1, validation_data=(x_val,y_val))"
   ]
  },
  {
   "cell_type": "code",
   "execution_count": 10,
   "metadata": {},
   "outputs": [
    {
     "name": "stdout",
     "output_type": "stream",
     "text": [
      "10000/10000 [==============================] - 5s 491us/step\n",
      "Test loss: 0.026854408886609598\n",
      "Test accuracy: 0.9915\n"
     ]
    }
   ],
   "source": [
    "score = model.evaluate(x_test, y_test, verbose= 1)\n",
    "print('Test loss:', score[0])\n",
    "print('Test accuracy:', score[1])"
   ]
  },
  {
   "cell_type": "code",
   "execution_count": 11,
   "metadata": {},
   "outputs": [
    {
     "data": {
      "image/png": "[encoded data removed]",
      "text/plain": [
       "<Figure size 432x288 with 1 Axes>"
      ]
     },
     "metadata": {
      "needs_background": "light"
     },
     "output_type": "display_data"
    },
    {
     "data": {
      "image/png": "[encoded data removed]",
      "text/plain": [
       "<Figure size 432x288 with 1 Axes>"
      ]
     },
     "metadata": {
      "needs_background": "light"
     },
     "output_type": "display_data"
    }
   ],
   "source": [
    "accuracy = hist.history['acc']\n",
    "val_accuracy = hist.history['val_acc']\n",
    "loss = hist.history['loss']\n",
    "val_loss = hist.history['val_loss']\n",
    "epochs = range(len(accuracy))\n",
    "plt.plot(epochs, accuracy, 'bo', label='Training accuracy')\n",
    "plt.plot(epochs, val_accuracy, 'b', label='Validation accuracy')\n",
    "plt.title('Training and validation accuracy')\n",
    "plt.legend()\n",
    "plt.figure()\n",
    "plt.plot(epochs, loss, 'bo', label='Training loss')\n",
    "plt.plot(epochs, val_loss, 'b', label='Validation loss')\n",
    "plt.title('Training and validation loss')\n",
    "plt.legend()\n",
    "plt.show()"
   ]
  },
  {
   "cell_type": "code",
   "execution_count": 12,
   "metadata": {},
   "outputs": [],
   "source": [
    "#get the predictions for the test data\n",
    "predicted_classes = model.predict_classes(x_test)\n",
    "\n",
    "#get the indices to be plotted\n",
    "correct = np.nonzero(predicted_classes==y_true)[0]\n",
    "incorrect = np.nonzero(predicted_classes!=y_true)[0]"
   ]
  },
  {
   "cell_type": "code",
   "execution_count": 13,
   "metadata": {},
   "outputs": [
    {
     "name": "stdout",
     "output_type": "stream",
     "text": [
      "              precision    recall  f1-score   support\n",
      "\n",
      "     Class 0       0.99      1.00      0.99       980\n",
      "     Class 1       0.99      1.00      1.00      1135\n",
      "     Class 2       0.99      1.00      0.99      1032\n",
      "     Class 3       0.99      0.99      0.99      1010\n",
      "     Class 4       0.99      0.99      0.99       982\n",
      "     Class 5       0.99      0.99      0.99       892\n",
      "     Class 6       0.99      0.99      0.99       958\n",
      "     Class 7       0.99      0.99      0.99      1028\n",
      "     Class 8       0.99      0.99      0.99       974\n",
      "     Class 9       0.99      0.98      0.99      1009\n",
      "\n",
      "   micro avg       0.99      0.99      0.99     10000\n",
      "   macro avg       0.99      0.99      0.99     10000\n",
      "weighted avg       0.99      0.99      0.99     10000\n",
      "\n"
     ]
    }
   ],
   "source": [
    "target_names = [\"Class {}\".format(i) for i in range(num_classes)]\n",
    "print(classification_report(y_true, predicted_classes, target_names=target_names))"
   ]
  },
  {
   "cell_type": "code",
   "execution_count": 14,
   "metadata": {},
   "outputs": [
    {
     "data": {
      "image/png": "[encoded data removed]",
      "text/plain": [
       "<Figure size 432x288 with 9 Axes>"
      ]
     },
     "metadata": {
      "needs_background": "light"
     },
     "output_type": "display_data"
    }
   ],
   "source": [
    "for i, c in enumerate(correct[:9]):\n",
    "    plt.subplot(3,3,i+1)\n",
    "    plt.imshow(x_test[c].reshape(28,28), cmap='gray', interpolation='none')\n",
    "    plt.title(\"Predicted {}, Class {}\".format(predicted_classes[c], y_true[c]))\n",
    "    plt.tight_layout()"
   ]
  },
  {
   "cell_type": "code",
   "execution_count": 15,
   "metadata": {},
   "outputs": [
    {
     "data": {
      "image/png": "[encoded data removed]",
      "text/plain": [
       "<Figure size 432x288 with 9 Axes>"
      ]
     },
     "metadata": {
      "needs_background": "light"
     },
     "output_type": "display_data"
    }
   ],
   "source": [
    "for i, inc in enumerate(incorrect[:9]):\n",
    "    plt.subplot(3,3,i+1)\n",
    "    plt.imshow(x_test[inc].reshape(28,28), cmap='gray', interpolation='none')\n",
    "    plt.title(\"Predicted {}, Class {}\".format(predicted_classes[inc], y_true[inc]))\n",
    "    plt.tight_layout()"
   ]
  },
  {
   "cell_type": "code",
   "execution_count": 16,
   "metadata": {},
   "outputs": [
    {
     "data": {
      "image/png": "[encoded data removed]",
      "text/plain": [
       "<Figure size 432x288 with 1 Axes>"
      ]
     },
     "metadata": {
      "needs_background": "light"
     },
     "output_type": "display_data"
    }
   ],
   "source": [
    "test_img = x_train[125]\n",
    "plt.imshow(test_img.reshape(28,28), cmap='gray', interpolation='none')\n",
    "plt.show()"
   ]
  },
  {
   "cell_type": "code",
   "execution_count": 17,
   "metadata": {},
   "outputs": [
    {
     "data": {
      "text/plain": [
       "<matplotlib.image.AxesImage at 0x1a298ed0b8>"
      ]
     },
     "execution_count": 17,
     "metadata": {},
     "output_type": "execute_result"
    },
    {
     "data": {
      "image/png": "[encoded data removed]",
      "text/plain": [
       "<Figure size 288x288 with 1 Axes>"
      ]
     },
     "metadata": {
      "needs_background": "light"
     },
     "output_type": "display_data"
    }
   ],
   "source": [
    "layer_outputs = [layer.output for layer in model.layers[:8]]\n",
    "activation_model = Model(inputs=model.input, outputs=layer_outputs)\n",
    "activations = activation_model.predict(test_img.reshape(1,28,28,1))\n",
    "\n",
    "first_layer_activation = activations[0]\n",
    "plt.matshow(first_layer_activation[0, :, :, 4], cmap='gray')"
   ]
  },
  {
   "cell_type": "code",
   "execution_count": null,
   "metadata": {},
   "outputs": [],
   "source": []
  }
 ],
 "metadata": {
  "kernelspec": {
   "display_name": "Python 3",
   "language": "python",
   "name": "python3"
  },
  "language_info": {
   "codemirror_mode": {
    "name": "ipython",
    "version": 3
   },
   "file_extension": ".py",
   "mimetype": "text/x-python",
   "name": "python",
   "nbconvert_exporter": "python",
   "pygments_lexer": "ipython3",
   "version": "3.6.7"
  }
 },
 "nbformat": 4,
 "nbformat_minor": 2
}
